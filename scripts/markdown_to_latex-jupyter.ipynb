{
 "cells": [
  {
   "cell_type": "code",
   "execution_count": 140,
   "id": "8183b1d3",
   "metadata": {
    "ExecuteTime": {
     "end_time": "2022-12-12T21:34:07.173882Z",
     "start_time": "2022-12-12T21:34:07.149026Z"
    }
   },
   "outputs": [],
   "source": [
    "from IPython.display import display, Markdown, Latex\n",
    "import subprocess\n",
    "import re\n",
    "import os\n",
    "import pandas as pd\n",
    "\n",
    "#In this variable is markdown from all jupyternotebook\n",
    "global_markdown={}\n",
    "\n",
    "def save_markdown_files(text: str, dir):\n",
    "    for key, markdown in text.items():\n",
    "        file_name = key + '.md'\n",
    "        file = open(dir + file_name, 'w')\n",
    "        \n",
    "        file.write(markdown)\n",
    "        file.close()\n",
    "\n",
    "def add_extra_backslash_to_escapes_codes(t):\n",
    "    ''' Automatically add extra \\ before python escape characters before saving to markdown'''\n",
    "  \n",
    "    t=t.replace('\\r', '\\\\r')\n",
    "    t=t.replace('\\b', '\\\\b')\n",
    "    t=t.replace('\\t', '\\\\t')\n",
    "    t=t.replace('\\t', '\\\\t')\n",
    "    # t=t.replace('\\n', '\\\\\\\\n')\n",
    "    t=t.replace('\\a', '\\\\a')\n",
    "    t=t.replace('\\f', '\\\\f')\n",
    "    return t\n",
    "\n",
    "\n",
    "def print_stats(t):\n",
    "    print()\n",
    "    total=count_markdown_words(t)['pure_total_words']\n",
    "    \n",
    "    print('Pure total words: ', total)\n",
    "    print('Total time to read [minutes] : ', round(total/130, 2) )\n",
    "    \n",
    "\n",
    "    print(\"headline_words\",  count_markdown_words(t)['headline_words'])\n",
    "    print(\"subheadline_words\", count_markdown_words(t)['subheadline_words'])\n",
    "    print(\"table_words\", count_markdown_words(t)['table_words'])\n",
    "    print(\"figures_words\", count_markdown_words(t)['figures_words'])\n",
    "\n",
    "def count_words(words):\n",
    "    count = 0\n",
    "    words=add_extra_backslash_to_escapes_codes(words)\n",
    "    \n",
    "    #words=words\n",
    "    for word in words.split():\n",
    "        if not re.match(\"\\\\\\\\\", word):\n",
    "            count += 1\n",
    "    return count\n",
    "    \n",
    "def count_markdown_words(text: str) ->dict:\n",
    "    # Split the text into lines\n",
    "    lines = text.split(\"\\n\")\n",
    "\n",
    "    # Initialize variables to keep track of the number of words in headlines and subheadlines\n",
    "    headline_words = 0\n",
    "    subheadline_words = 0\n",
    "\n",
    "    # Initialize a variable to keep track of the total number of words in tables\n",
    "    table_words = 0\n",
    "\n",
    "    # Initialize a variable to keep track of the total number of words in the text\n",
    "    total_words = 0\n",
    "    figures_words = 0\n",
    "    dontskiplines=True\n",
    "\n",
    "    # Loop through each line in the text\n",
    "    for line in lines:\n",
    "        # Check if the line is a headline\n",
    "        #regex=re.findall(r\"[^\\\\]\\w+\", line)\n",
    "        #regex=count_words(line)\n",
    "      \n",
    "        if line.startswith(\"\\begin{equation}\"):\n",
    "            dontskiplines=False\n",
    "            \n",
    "        if line.startswith(\"\\end{equation}\"):\n",
    "            dontskiplines=True\n",
    "          \n",
    "        if dontskiplines:\n",
    "            if line.startswith(\"# \"):\n",
    "                # Split the line into words and add the number of words to the headline_words variable\n",
    "                headline_words += count_words(line)\n",
    "            # Check if the line is a subheadline\n",
    "            elif line.startswith(\"## \"):\n",
    "                # Split the line into words and add the number of words to the subheadline_words variable\n",
    "                subheadline_words += count_words(line)\n",
    "            # Check if the line is part of a table\n",
    "            elif line.startswith(\"|\"):\n",
    "                # Split the line into words and add the number of words to the table_words variable\n",
    "                table_words += count_words(line)\n",
    "            elif line.startswith(\"![\"):\n",
    "                # Split the line into words and add the number of words to the figures_caption var\n",
    "                figures_words += count_words(line)\n",
    "            # If the line is not a headline, subheadline, or part of a table, add the number of words to the total_words variabl   \n",
    "        \n",
    "            else:\n",
    "                total_words += count_words(line) #len(re.findall(r\"\\w+\", line))\n",
    "\n",
    "    # Return the total number of words in headlines, subheadlines, and tables, as well as the total number of words\n",
    "    return {\n",
    "        # total words are without tables, headlines, ans subheadlines\n",
    "        \"pure_total_words\": total_words  ,\n",
    "        \"headline_words\": headline_words - 1,\n",
    "        \"subheadline_words\": subheadline_words - 1,\n",
    "        \"table_words\": table_words,\n",
    "        \"figures_words\": figures_words\n",
    "    }\n",
    "\n",
    "\n",
    "def count_markdown_words_dict(markdown: dict) -> dict:\n",
    "\n",
    "    word_counts = {\n",
    "        'pure_total_words': 0,\n",
    "        'headline_words': 0,\n",
    "        'subheadline_words': 0,\n",
    "        'table_words': 0,\n",
    "        'figures_words': 0\n",
    "    }\n",
    "    \n",
    "    for key, value in markdown.items():\n",
    "        counts = count_markdown_words(value)\n",
    "        for key, value in counts.items():\n",
    "            word_counts[key] += value\n",
    "            \n",
    "    return word_counts\n",
    "\n",
    "\n",
    "def split_markdown_into_dict(text: str) -> dict:\n",
    "    \n",
    "    ''' You give markdown as a str and it returns markdown in dict'''\n",
    "    \n",
    "    # split the text into lines\n",
    "    lines = text.split(\"\\n\")\n",
    "    \n",
    "    # initialize a dictionary to store the paragraphs and sub-paragraphs\n",
    "    result = {}\n",
    "    \n",
    "    # initialize the current key and value\n",
    "    current_key = None\n",
    "    current_value = []\n",
    "    \n",
    "    # loop over the lines\n",
    "    for line in lines:\n",
    "        # if the line starts with \"#\", it indicates the start of a new paragraph\n",
    "        # or sub-paragraph. update the current key and value accordingly.\n",
    "        if line.startswith(\"#\"):\n",
    "            if current_key is not None:\n",
    "                result[current_key] = \"\\n\".join(current_value)\n",
    "            current_key = line\n",
    "            current_value = []\n",
    "        \n",
    "        # if the line does not start with \"#\", it is part of the current paragraph\n",
    "        # or sub-paragraph. append it to the current value.\n",
    "        else:\n",
    "            current_value.append(line)\n",
    "    \n",
    "    # add the final paragraph or sub-paragraph to the result\n",
    "    result[current_key] = \"\\n\".join(current_value)\n",
    "    \n",
    "    return result\n",
    "\n",
    "def split_markdown_into_dict_level_one(markdown: dict) -> dict:\n",
    "    ''' Order dict that all the text from headline level 1 \n",
    "    will be in each key '''\n",
    "\n",
    "    first_level = {}\n",
    "\n",
    "    for key, value in markdown.items():\n",
    "        if key.startswith(\"# \"):\n",
    "            first_level[key] = value\n",
    "            current_key = key\n",
    "        else:\n",
    "            first_level[current_key]= first_level[current_key]+ \"\\n\" + key + \"\\n\" + value \n",
    "\n",
    "    return first_level\n",
    "\n",
    "\n",
    "\n",
    "def run_subprocess(command, pdftex):\n",
    "    subprocess.call(command, cwd=pdftex, stdout=open(os.devnull, 'wb'))\n",
    "    \n",
    "def add_wordcount_to_markdown(markdown: dict) -> str:\n",
    "    \n",
    "    ''' Takes markdown and insert word count for every paragraph and subparagraph '''\n",
    "    \n",
    "    # initialize the result string\n",
    "    result = \"\"\n",
    "    \n",
    "    # loop over the keys and values in the dictionary\n",
    "    for title, text in markdown.items():\n",
    "        # count the number of words in the text\n",
    "        words = count_markdown_words(text)['pure_total_words']\n",
    "        \n",
    "        \n",
    "        time_to_read_str= str(words) + \" words, around \" + str(round(words/130, 2)) + \" minutes of reading \"\n",
    "        time_on_right=\"\"\n",
    "        if words > 0:\n",
    "            time_on_right='''\n",
    "\\\\begin{flushright}\n",
    "        %s\n",
    "\\end{flushright}\n",
    "    ''' % time_to_read_str\n",
    "        \n",
    "        # add the title, word count, and estimated reading time to the result\n",
    "        result += title + \"\\n\"\n",
    "        result += str(time_on_right)\n",
    "        result += str(text) + \"\\n\"\n",
    "    \n",
    "    return result\n",
    "\n",
    "    \n",
    "# Main function:\n",
    "    \n",
    "def saveText(markdown: str, headline: str):\n",
    "    # set directory to save md files\n",
    "    dir = 'latex/md/'\n",
    "    # create one if it's missing\n",
    "    if not os.path.exists(dir):\n",
    "        os.makedirs(dir)\n",
    "    \n",
    "    \n",
    "    markdown = add_extra_backslash_to_escapes_codes(markdown)\n",
    "    \n",
    "    #markdown_from_cell = { headline: markdown }\n",
    "    markdown = split_markdown_into_dict(markdown)\n",
    "    \n",
    "    global global_markdown \n",
    "    global_markdown = global_markdown | markdown\n",
    "\n",
    "   # markdown = split_markdown_into_dict(markdown)\n",
    "    text = {headline: add_wordcount_to_markdown(markdown)}\n",
    "    \n",
    "    save_markdown_files(text, dir)\n",
    "    file = open(dir + 'global_markdown.md', 'w')    \n",
    "    # Count total words by \n",
    "    file.write(\n",
    "                add_wordcount_to_markdown(\n",
    "                split_markdown_into_dict_level_one(\n",
    "                global_markdown\n",
    "                                                  )\n",
    "                                         )\n",
    "               )\n",
    "    \n",
    "    \n",
    "    print_stats(t)\n",
    "\n",
    "    \n",
    "    #run_subprocess(command, pdftex))"
   ]
  },
  {
   "cell_type": "code",
   "execution_count": 136,
   "id": "2ca99db9",
   "metadata": {
    "ExecuteTime": {
     "end_time": "2022-12-12T21:26:03.047294Z",
     "start_time": "2022-12-12T21:26:03.036609Z"
    }
   },
   "outputs": [],
   "source": [
    "\n"
   ]
  },
  {
   "cell_type": "markdown",
   "id": "35545a28",
   "metadata": {
    "ExecuteTime": {
     "end_time": "2022-12-12T17:09:06.212314Z",
     "start_time": "2022-12-12T17:09:06.209945Z"
    }
   },
   "source": [
    "\n",
    "# Test 1"
   ]
  },
  {
   "cell_type": "code",
   "execution_count": 141,
   "id": "5fa51d7a",
   "metadata": {
    "ExecuteTime": {
     "end_time": "2022-12-12T21:35:00.831008Z",
     "start_time": "2022-12-12T21:35:00.824388Z"
    },
    "scrolled": true
   },
   "outputs": [
    {
     "name": "stdout",
     "output_type": "stream",
     "text": [
      "\n",
      "Pure total words:  10\n",
      "Total time to read [minutes] :  0.08\n",
      "headline_words 2\n",
      "subheadline_words 1\n",
      "table_words 22\n",
      "figures_words 5\n"
     ]
    }
   ],
   "source": [
    "\n",
    "t=\"\"\"\n",
    "# Hello World\n",
    "\n",
    "This is an example Markdown text.\n",
    "\n",
    "## Subheadline \n",
    "\n",
    "This is a subheadline.\n",
    "\n",
    "| Column 1 | Column 2 |\n",
    "|----------|----------|\n",
    "| Cell 1   | Cell 2   |\n",
    "| Cell 3   | Cell 4   |\n",
    "\n",
    "![ figure](Here are some figures)\n",
    "\n",
    "\"\"\"\n",
    "\n",
    "saveText(t, \"helloworld\")"
   ]
  },
  {
   "cell_type": "code",
   "execution_count": 114,
   "id": "fe7cc548",
   "metadata": {
    "ExecuteTime": {
     "end_time": "2022-12-12T21:22:25.510425Z",
     "start_time": "2022-12-12T21:22:25.505755Z"
    }
   },
   "outputs": [
    {
     "name": "stdout",
     "output_type": "stream",
     "text": [
      "{'# Hello World': '\\nThis is an example Markdown text.\\n', '## Subheadline ': '\\nThis is a subheadline.\\n\\n| Column 1 | Column 2 |\\n|----------|----------|\\n| Cell 1   | Cell 2   |\\n| Cell 3   | Cell 4   |\\n\\n![ figure](Here are some figures)\\n\\n'}\n"
     ]
    }
   ],
   "source": [
    "print(global_markdown)"
   ]
  },
  {
   "cell_type": "code",
   "execution_count": 115,
   "id": "1fca9fc8",
   "metadata": {
    "ExecuteTime": {
     "end_time": "2022-12-12T21:22:25.800702Z",
     "start_time": "2022-12-12T21:22:25.796256Z"
    }
   },
   "outputs": [],
   "source": [
    "# Test 2 "
   ]
  },
  {
   "cell_type": "code",
   "execution_count": 132,
   "id": "499f8a6a",
   "metadata": {
    "ExecuteTime": {
     "end_time": "2022-12-12T21:23:35.135703Z",
     "start_time": "2022-12-12T21:23:35.128304Z"
    },
    "scrolled": true
   },
   "outputs": [
    {
     "name": "stdout",
     "output_type": "stream",
     "text": [
      "\n",
      "Pure total words:  1\n",
      "Total time to read [minutes] :  0.01\n",
      "headline_words 7\n",
      "subheadline_words 2\n",
      "table_words 0\n",
      "figures_words 0\n"
     ]
    }
   ],
   "source": [
    "t=\"\"\" \n",
    "\n",
    "# This one is testing escaping sequences:\n",
    "\n",
    "## asdf\n",
    "\n",
    "\\big \n",
    "\\tag\n",
    "\\newline\n",
    "\\\\newline\n",
    "\\equation\n",
    "\\text\n",
    "\\autocite\n",
    "\n",
    "\\begin{equation}\n",
    "E(w,b) = \\frac{1}{n}\\sum_{i=1}^{n} L(y_i, f(x_i)) + \\alpha R(w)\n",
    "\\end{equation}\n",
    "\n",
    "\"\"\"\n",
    "saveText(t, 'test2')"
   ]
  },
  {
   "cell_type": "code",
   "execution_count": 160,
   "id": "6343727f",
   "metadata": {
    "ExecuteTime": {
     "end_time": "2022-12-12T23:19:57.935668Z",
     "start_time": "2022-12-12T23:19:57.931123Z"
    }
   },
   "outputs": [],
   "source": [
    "def dict_markdown_to_str(global_markdown: dict) -> str:\n",
    "    markdown_string = \"\"\n",
    "    for key, value in global_markdown.items():\n",
    "        markdown_string += key + value\n",
    "    return markdown_string"
   ]
  },
  {
   "cell_type": "code",
   "execution_count": 153,
   "id": "0f907a32",
   "metadata": {
    "ExecuteTime": {
     "end_time": "2022-12-12T23:18:49.338952Z",
     "start_time": "2022-12-12T23:18:49.334015Z"
    }
   },
   "outputs": [
    {
     "data": {
      "text/plain": [
       "'# Hello World\\nThis is an example Markdown text.\\n## Subheadline \\nThis is a subheadline.\\n\\n| Column 1 | Column 2 |\\n|----------|----------|\\n| Cell 1   | Cell 2   |\\n| Cell 3   | Cell 4   |\\n\\n![ figure](Here are some figures)\\n\\n'"
      ]
     },
     "execution_count": 153,
     "metadata": {},
     "output_type": "execute_result"
    }
   ],
   "source": [
    "convert_to_markdown(global_markdown)"
   ]
  },
  {
   "cell_type": "code",
   "execution_count": 117,
   "id": "58c8d811",
   "metadata": {
    "ExecuteTime": {
     "end_time": "2022-12-12T21:22:44.517417Z",
     "start_time": "2022-12-12T21:22:44.511758Z"
    }
   },
   "outputs": [],
   "source": [
    "def count_words(words):\n",
    "    count = 0\n",
    "    words=add_extra_backslash_to_escapes_codes(words)\n",
    "    \n",
    "    #words=words\n",
    "    for word in words.split():\n",
    "        if not re.match(\"\\\\\\\\\", word):\n",
    "            count += 1\n",
    "    return count"
   ]
  },
  {
   "cell_type": "code",
   "execution_count": 145,
   "id": "84adcb5d",
   "metadata": {
    "ExecuteTime": {
     "end_time": "2022-12-12T22:12:38.280259Z",
     "start_time": "2022-12-12T22:12:38.273065Z"
    }
   },
   "outputs": [
    {
     "data": {
      "text/plain": [
       "14"
      ]
     },
     "execution_count": 145,
     "metadata": {},
     "output_type": "execute_result"
    }
   ],
   "source": [
    "line=\"\"\"  \n",
    "# This one is testing escaping sequences:\n",
    "\n",
    "\\big \n",
    "\\tag\n",
    "\\newline\n",
    "\\\\newline\n",
    "\\equation\n",
    "\\text\n",
    "\\autocite\n",
    "\n",
    "\n",
    "\\begin{equation}\n",
    "E(w,b) = \\frac{1}{n}\\sum_{i=1}^{n} L(y_i, f(x_i)) + \\alpha R(w)\n",
    "\\end{equation} \"\"\"\n",
    "\n",
    "count_words(line)\n",
    "\n",
    "\n",
    "# Output: [ 'two', one']"
   ]
  },
  {
   "cell_type": "code",
   "execution_count": 119,
   "id": "cb67963e",
   "metadata": {
    "ExecuteTime": {
     "end_time": "2022-12-12T21:22:45.080920Z",
     "start_time": "2022-12-12T21:22:45.077278Z"
    }
   },
   "outputs": [],
   "source": [
    "# Add wordcount by each # level 1 headline"
   ]
  },
  {
   "cell_type": "code",
   "execution_count": 120,
   "id": "0988f751",
   "metadata": {
    "ExecuteTime": {
     "end_time": "2022-12-12T21:22:47.321207Z",
     "start_time": "2022-12-12T21:22:47.317305Z"
    }
   },
   "outputs": [],
   "source": [
    "markdown=split_markdown_into_dict_level_one(global_markdown)"
   ]
  },
  {
   "cell_type": "code",
   "execution_count": 121,
   "id": "93f4c0cb",
   "metadata": {
    "ExecuteTime": {
     "end_time": "2022-12-12T21:22:47.645202Z",
     "start_time": "2022-12-12T21:22:47.639157Z"
    }
   },
   "outputs": [
    {
     "name": "stdout",
     "output_type": "stream",
     "text": [
      "# Hello World\n",
      "\n",
      "\\begin{flushright}\n",
      "        10 words, around 0.08 minutes of reading \n",
      "\\end{flushright}\n",
      "    \n",
      "This is an example Markdown text.\n",
      "\n",
      "## Subheadline \n",
      "\n",
      "This is a subheadline.\n",
      "\n",
      "| Column 1 | Column 2 |\n",
      "|----------|----------|\n",
      "| Cell 1   | Cell 2   |\n",
      "| Cell 3   | Cell 4   |\n",
      "\n",
      "![ figure](Here are some figures)\n",
      "\n",
      "\n",
      "# This one is testing escaping sequences:\n",
      "\n",
      "\\begin{flushright}\n",
      "        7 words, around 0.05 minutes of reading \n",
      "\\end{flushright}\n",
      "    \n",
      "\\big \n",
      "\\tag\n",
      "\n",
      "ewline\n",
      "\\newline\n",
      "\\equation\n",
      "\\text\n",
      "\\autocite\n",
      "\n",
      "\\begin{equation}\n",
      "E(w,b) = \\frac{1}{n}\\sum_{i=1}^{n} L(y_i, f(x_i)) + \\alpha R(w)\n",
      "\\end{equation}\n",
      "\n",
      "\n",
      "\n"
     ]
    }
   ],
   "source": [
    "print(add_wordcount_to_markdown(markdown))"
   ]
  },
  {
   "cell_type": "code",
   "execution_count": 147,
   "id": "f156b8d2",
   "metadata": {
    "ExecuteTime": {
     "end_time": "2022-12-12T22:13:22.966545Z",
     "start_time": "2022-12-12T22:13:22.961389Z"
    }
   },
   "outputs": [
    {
     "data": {
      "text/plain": [
       "{'# Hello World': '\\nThis is an example Markdown text.\\n',\n",
       " '## Subheadline ': '\\nThis is a subheadline.\\n\\n| Column 1 | Column 2 |\\n|----------|----------|\\n| Cell 1   | Cell 2   |\\n| Cell 3   | Cell 4   |\\n\\n![ figure](Here are some figures)\\n\\n'}"
      ]
     },
     "execution_count": 147,
     "metadata": {},
     "output_type": "execute_result"
    }
   ],
   "source": [
    "global_markdown"
   ]
  },
  {
   "cell_type": "code",
   "execution_count": 146,
   "id": "70a07942",
   "metadata": {
    "ExecuteTime": {
     "end_time": "2022-12-12T22:12:47.608823Z",
     "start_time": "2022-12-12T22:12:47.602808Z"
    }
   },
   "outputs": [
    {
     "data": {
      "text/plain": [
       "{'pure_total_words': 10,\n",
       " 'headline_words': -2,\n",
       " 'subheadline_words': -2,\n",
       " 'table_words': 22,\n",
       " 'figures_words': 5}"
      ]
     },
     "execution_count": 146,
     "metadata": {},
     "output_type": "execute_result"
    }
   ],
   "source": [
    "count_markdown_words_dict(global_markdown)"
   ]
  },
  {
   "cell_type": "code",
   "execution_count": 123,
   "id": "fcbcf890",
   "metadata": {
    "ExecuteTime": {
     "end_time": "2022-12-12T21:22:54.969725Z",
     "start_time": "2022-12-12T21:22:54.965232Z"
    }
   },
   "outputs": [],
   "source": [
    "# Test 3"
   ]
  },
  {
   "cell_type": "code",
   "execution_count": 124,
   "id": "ddab97b7",
   "metadata": {
    "ExecuteTime": {
     "end_time": "2022-12-12T21:22:55.252148Z",
     "start_time": "2022-12-12T21:22:55.241716Z"
    }
   },
   "outputs": [
    {
     "name": "stdout",
     "output_type": "stream",
     "text": [
      "\n",
      "Pure total words:  45\n",
      "Total time to read [minutes] :  0.35\n",
      "headline_words 7\n",
      "subheadline_words 5\n",
      "table_words 22\n",
      "figures_words 5\n"
     ]
    }
   ],
   "source": [
    "t=\"\"\" \n",
    "# Hello World asd\n",
    "\n",
    "This paragraph have exactly 6 words\n",
    "\n",
    "## Subheadline \n",
    "\n",
    "This is a subheadline with the table that we do not count so\n",
    "this paragraph have 18 words\n",
    "\n",
    "| Column 1 | Column 2 |\n",
    "|----------|----------|\n",
    "| Cell 1   | Cell 2   |\n",
    "| Cell 3   | Cell 4   |\n",
    "\n",
    "## subhedline 2\n",
    "\n",
    "6 words only in this headline\n",
    "\n",
    "# Headline 2\n",
    "\n",
    "here is another text with the picture included that should not be counted 15 words\n",
    "\n",
    "![ alt text ]( )\n",
    "\n",
    "\"\"\"\n",
    "\n",
    "saveText(t, \"hello_world2\")"
   ]
  },
  {
   "cell_type": "code",
   "execution_count": 125,
   "id": "020ff99d",
   "metadata": {
    "ExecuteTime": {
     "end_time": "2022-12-12T21:22:55.947962Z",
     "start_time": "2022-12-12T21:22:55.940907Z"
    },
    "scrolled": false
   },
   "outputs": [
    {
     "data": {
      "text/plain": [
       "{'pure_total_words': 45,\n",
       " 'headline_words': 7,\n",
       " 'subheadline_words': 5,\n",
       " 'table_words': 22,\n",
       " 'figures_words': 5}"
      ]
     },
     "execution_count": 125,
     "metadata": {},
     "output_type": "execute_result"
    }
   ],
   "source": [
    "count_markdown_words(t)"
   ]
  },
  {
   "cell_type": "code",
   "execution_count": null,
   "id": "9794c964",
   "metadata": {
    "ExecuteTime": {
     "end_time": "2022-12-10T20:29:26.490635Z",
     "start_time": "2022-12-10T20:29:26.483543Z"
    }
   },
   "outputs": [],
   "source": []
  },
  {
   "cell_type": "code",
   "execution_count": 16,
   "id": "3b4f7ec7",
   "metadata": {
    "ExecuteTime": {
     "end_time": "2022-12-12T20:59:58.209859Z",
     "start_time": "2022-12-12T20:59:58.205618Z"
    }
   },
   "outputs": [],
   "source": [
    "markdown=split_markdown_into_dict(t)"
   ]
  },
  {
   "cell_type": "code",
   "execution_count": 17,
   "id": "d2789866",
   "metadata": {
    "ExecuteTime": {
     "end_time": "2022-12-12T20:59:58.219358Z",
     "start_time": "2022-12-12T20:59:58.212007Z"
    }
   },
   "outputs": [
    {
     "data": {
      "text/plain": [
       "{'# Hello World asd': '\\nThis paragraph have exactly 6 words\\n',\n",
       " '## Subheadline ': '\\nThis is a subheadline with the table that we do not count so\\nthis paragraph have 18 words\\n\\n| Column 1 | Column 2 |\\n|----------|----------|\\n| Cell 1   | Cell 2   |\\n| Cell 3   | Cell 4   |\\n',\n",
       " '## subhedline 2': '\\n6 words only in this headline\\n',\n",
       " '# Headline 2': '\\nhere is another text with the picture included that should not be counted 15 words\\n\\n![ alt text ]( )\\n\\n'}"
      ]
     },
     "execution_count": 17,
     "metadata": {},
     "output_type": "execute_result"
    }
   ],
   "source": [
    "markdown"
   ]
  },
  {
   "cell_type": "code",
   "execution_count": 18,
   "id": "09ea0c36",
   "metadata": {
    "ExecuteTime": {
     "end_time": "2022-12-12T20:59:58.228083Z",
     "start_time": "2022-12-12T20:59:58.221758Z"
    }
   },
   "outputs": [
    {
     "name": "stdout",
     "output_type": "stream",
     "text": [
      "\n",
      "This is an example Markdown text.\n",
      "\n",
      "\n",
      "This is a subheadline with the table that we do not count so\n",
      "this paragraph have 18 words\n",
      "\n",
      "| Column 1 | Column 2 |\n",
      "|----------|----------|\n",
      "| Cell 1   | Cell 2   |\n",
      "| Cell 3   | Cell 4   |\n",
      "\n",
      "\n",
      "\\big \n",
      "\\tag\n",
      "\n",
      "ewline\n",
      "\\newline\n",
      "\\equation\n",
      "\\text\n",
      "\\autocite\n",
      "\n",
      "\\begin{equation}\n",
      "E(w,b) = \\frac{1}{n}\\sum_{i=1}^{n} L(y_i, f(x_i)) + \\alpha R(w)\n",
      "\\end{equation}\n",
      "\n",
      "\n",
      "\n",
      "This paragraph have exactly 6 words\n",
      "\n",
      "\n",
      "6 words only in this headline\n",
      "\n",
      "\n",
      "here is another text with the picture included that should not be counted 15 words\n",
      "\n",
      "![ alt text ]( )\n",
      "\n",
      "\n"
     ]
    }
   ],
   "source": [
    "for key, values in global_markdown.items():\n",
    "    print(values)"
   ]
  },
  {
   "cell_type": "code",
   "execution_count": 19,
   "id": "f629c65e",
   "metadata": {
    "ExecuteTime": {
     "end_time": "2022-12-12T20:59:58.234887Z",
     "start_time": "2022-12-12T20:59:58.230928Z"
    }
   },
   "outputs": [
    {
     "name": "stdout",
     "output_type": "stream",
     "text": [
      "# Hello World\n",
      "\n",
      "\\begin{flushright}\n",
      "        6 words, around 0.05 minutes of reading \n",
      "\\end{flushright}\n",
      "    \n",
      "This is an example Markdown text.\n",
      "\n",
      "## Subheadline \n",
      "\n",
      "\\begin{flushright}\n",
      "        18 words, around 0.14 minutes of reading \n",
      "\\end{flushright}\n",
      "    \n",
      "This is a subheadline with the table that we do not count so\n",
      "this paragraph have 18 words\n",
      "\n",
      "| Column 1 | Column 2 |\n",
      "|----------|----------|\n",
      "| Cell 1   | Cell 2   |\n",
      "| Cell 3   | Cell 4   |\n",
      "\n",
      "# This one is testing escaping sequences:\n",
      "\n",
      "\\begin{flushright}\n",
      "        28 words, around 0.22 minutes of reading \n",
      "\\end{flushright}\n",
      "    \n",
      "\\big \n",
      "\\tag\n",
      "\n",
      "ewline\n",
      "\\newline\n",
      "\\equation\n",
      "\\text\n",
      "\\autocite\n",
      "\n",
      "\\begin{equation}\n",
      "E(w,b) = \\frac{1}{n}\\sum_{i=1}^{n} L(y_i, f(x_i)) + \\alpha R(w)\n",
      "\\end{equation}\n",
      "\n",
      "\n",
      "# Hello World asd\n",
      "\n",
      "\\begin{flushright}\n",
      "        6 words, around 0.05 minutes of reading \n",
      "\\end{flushright}\n",
      "    \n",
      "This paragraph have exactly 6 words\n",
      "\n",
      "## subhedline 2\n",
      "\n",
      "\\begin{flushright}\n",
      "        6 words, around 0.05 minutes of reading \n",
      "\\end{flushright}\n",
      "    \n",
      "6 words only in this headline\n",
      "\n",
      "# Headline 2\n",
      "\n",
      "\\begin{flushright}\n",
      "        15 words, around 0.12 minutes of reading \n",
      "\\end{flushright}\n",
      "    \n",
      "here is another text with the picture included that should not be counted 15 words\n",
      "\n",
      "![ alt text ]( )\n",
      "\n",
      "\n",
      "\n"
     ]
    }
   ],
   "source": [
    "#ADD WORD COUNT FOR EACH PARAGRAPH\n",
    "\n",
    "print(add_wordcount_to_markdown(global_markdown))"
   ]
  }
 ],
 "metadata": {
  "kernelspec": {
   "display_name": "Python 3 (ipykernel)",
   "language": "python",
   "name": "python3"
  },
  "language_info": {
   "codemirror_mode": {
    "name": "ipython",
    "version": 3
   },
   "file_extension": ".py",
   "mimetype": "text/x-python",
   "name": "python",
   "nbconvert_exporter": "python",
   "pygments_lexer": "ipython3",
   "version": "3.9.12"
  },
  "toc": {
   "base_numbering": 1,
   "nav_menu": {},
   "number_sections": true,
   "sideBar": true,
   "skip_h1_title": false,
   "title_cell": "Table of Contents",
   "title_sidebar": "Contents",
   "toc_cell": false,
   "toc_position": {},
   "toc_section_display": true,
   "toc_window_display": false
  },
  "varInspector": {
   "cols": {
    "lenName": 16,
    "lenType": 16,
    "lenVar": 40
   },
   "kernels_config": {
    "python": {
     "delete_cmd_postfix": "",
     "delete_cmd_prefix": "del ",
     "library": "var_list.py",
     "varRefreshCmd": "print(var_dic_list())"
    },
    "r": {
     "delete_cmd_postfix": ") ",
     "delete_cmd_prefix": "rm(",
     "library": "var_list.r",
     "varRefreshCmd": "cat(var_dic_list()) "
    }
   },
   "types_to_exclude": [
    "module",
    "function",
    "builtin_function_or_method",
    "instance",
    "_Feature"
   ],
   "window_display": false
  }
 },
 "nbformat": 4,
 "nbformat_minor": 5
}
