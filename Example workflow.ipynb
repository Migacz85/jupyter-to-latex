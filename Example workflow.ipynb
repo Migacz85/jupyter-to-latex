{
 "cells": [
  {
   "cell_type": "code",
   "execution_count": 1,
   "id": "688694ae",
   "metadata": {
    "ExecuteTime": {
     "end_time": "2022-12-13T14:45:49.183131Z",
     "start_time": "2022-12-13T14:45:46.236374Z"
    },
    "scrolled": true
   },
   "outputs": [],
   "source": [
    "import pandas as pd\n",
    "\n",
    "from scripts.markdown_to_latex import *\n",
    "def run_latex():\n",
    "    subprocess.call(['python', 'scripts/run2.py'])\n",
    "\n",
    "run_latex()\n"
   ]
  },
  {
   "cell_type": "code",
   "execution_count": 2,
   "id": "9142cffa",
   "metadata": {
    "ExecuteTime": {
     "end_time": "2022-12-13T14:45:52.075538Z",
     "start_time": "2022-12-13T14:45:49.185437Z"
    },
    "scrolled": true
   },
   "outputs": [
    {
     "name": "stdout",
     "output_type": "stream",
     "text": [
      "Cell: {'pure_total_words': 78, 'headline_words': 22, 'subheadline_words': 11, 'table_words': 0, 'figures_words': 4}\n",
      "All Doc: {'pure_total_words': 87, 'headline_words': 22, 'subheadline_words': 11, 'table_words': 0, 'figures_words': 4}\n"
     ]
    }
   ],
   "source": [
    "t=\"\"\"\n",
    "# Hello here is my first heading\n",
    "\n",
    "\n",
    "This script is automatically calculating number of words in markdown between paragraphs. \n",
    "\n",
    "\n",
    "## And this is second subheading\n",
    "\n",
    "I'm writing in Markdown, It's calculating only words that are in paragraphs\n",
    "and try to don't calculate headings and subheadings\n",
    "\n",
    "\n",
    "![fig3](/figures/activation.jpeg \"Activation function comparison\")\n",
    "\n",
    "\n",
    "## Here is another subheading\n",
    "\n",
    "This is another subheading with equation:\n",
    "\n",
    "\n",
    "\\begin{equation}\n",
    "d(p,q) = sqrt((p1-q1)^2 + (p2-q2)^2 + ... + (pn-qn)^2)\n",
    "\\end{equation}\n",
    "\n",
    "\n",
    "In 1 equation I want to talk about....\n",
    "This is inline `code`. This is a [link](http://google.cz \"Google\").  _This is an *emphasized* span of text_ . __This is a **strongly emphasized** span of text__.\n",
    "\n",
    "\n",
    "# Hashes are keys in dictionary, you need to restart kernel if you change them\n",
    "\n",
    "It works\n",
    "\\\\newline\n",
    "\n",
    "hello now it works :)\n",
    "\n",
    "\"\"\"\n",
    "\n",
    "saveText(t, 'first')\n",
    "run_latex()"
   ]
  },
  {
   "cell_type": "code",
   "execution_count": 3,
   "id": "a35fdf12",
   "metadata": {
    "ExecuteTime": {
     "end_time": "2022-12-13T14:45:52.082859Z",
     "start_time": "2022-12-13T14:45:52.078976Z"
    }
   },
   "outputs": [],
   "source": [
    "# global_markdown"
   ]
  },
  {
   "cell_type": "code",
   "execution_count": null,
   "id": "db3ddd01",
   "metadata": {},
   "outputs": [],
   "source": []
  }
 ],
 "metadata": {
  "kernelspec": {
   "display_name": "Python 3",
   "language": "python",
   "name": "python3"
  },
  "language_info": {
   "codemirror_mode": {
    "name": "ipython",
    "version": 3
   },
   "file_extension": ".py",
   "mimetype": "text/x-python",
   "name": "python",
   "nbconvert_exporter": "python",
   "pygments_lexer": "ipython3",
   "version": "3.10.8"
  },
  "toc": {
   "base_numbering": 1,
   "nav_menu": {},
   "number_sections": true,
   "sideBar": true,
   "skip_h1_title": false,
   "title_cell": "Table of Contents",
   "title_sidebar": "Contents",
   "toc_cell": false,
   "toc_position": {},
   "toc_section_display": true,
   "toc_window_display": false
  },
  "varInspector": {
   "cols": {
    "lenName": 16,
    "lenType": 16,
    "lenVar": 40
   },
   "kernels_config": {
    "python": {
     "delete_cmd_postfix": "",
     "delete_cmd_prefix": "del ",
     "library": "var_list.py",
     "varRefreshCmd": "print(var_dic_list())"
    },
    "r": {
     "delete_cmd_postfix": ") ",
     "delete_cmd_prefix": "rm(",
     "library": "var_list.r",
     "varRefreshCmd": "cat(var_dic_list()) "
    }
   },
   "types_to_exclude": [
    "module",
    "function",
    "builtin_function_or_method",
    "instance",
    "_Feature"
   ],
   "window_display": false
  },
  "vscode": {
   "interpreter": {
    "hash": "e7370f93d1d0cde622a1f8e1c04877d8463912d04d973331ad4851f04de6915a"
   }
  }
 },
 "nbformat": 4,
 "nbformat_minor": 5
}
